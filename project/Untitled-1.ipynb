{
 "cells": [
  {
   "cell_type": "code",
   "execution_count": 9,
   "metadata": {},
   "outputs": [],
   "source": [
    "import pandas as pd\n",
    "import random\n",
    "\n",
    "orders_dataset = pd.read_csv(\"order_large.csv\")\n",
    "routes_dataset = pd.read_csv(\"distance.csv\")"
   ]
  },
  {
   "cell_type": "code",
   "execution_count": 14,
   "metadata": {},
   "outputs": [
    {
     "name": "stdout",
     "output_type": "stream",
     "text": [
      "4635\n"
     ]
    }
   ],
   "source": [
    "import random\n",
    "import pandas as pd\n",
    "\n",
    "def initialize_population(num_individuals, routes_df, orders_df):\n",
    "    population = []\n",
    "    num_orders = len(orders_df)\n",
    "    \n",
    "    for _ in range(num_individuals):\n",
    "        # Randomly select routes for each order in the population\n",
    "        individual = []\n",
    "        for order_idx in range(num_orders):\n",
    "            # Randomly select a route (source and destination) for each order\n",
    "            route_idx = random.randint(0, len(routes_df) - 1)\n",
    "            source = routes_df.loc[route_idx, 'Source']\n",
    "            destination = routes_df.loc[route_idx, 'Destination']\n",
    "            individual.append((orders_df.loc[order_idx, 'Order_ID'], source, destination))  # (Order ID, Source, Destination)\n",
    "        \n",
    "        population.append(individual)\n",
    "    \n",
    "    return population\n",
    "\n",
    "population_size = 10\n",
    "initial_population = initialize_population(population_size, routes_dataset, orders_dataset)\n",
    "print(len(initial_population[0]))\n"
   ]
  },
  {
   "cell_type": "code",
   "execution_count": null,
   "metadata": {},
   "outputs": [],
   "source": []
  }
 ],
 "metadata": {
  "kernelspec": {
   "display_name": "base",
   "language": "python",
   "name": "python3"
  },
  "language_info": {
   "codemirror_mode": {
    "name": "ipython",
    "version": 3
   },
   "file_extension": ".py",
   "mimetype": "text/x-python",
   "name": "python",
   "nbconvert_exporter": "python",
   "pygments_lexer": "ipython3",
   "version": "3.11.5"
  }
 },
 "nbformat": 4,
 "nbformat_minor": 2
}
